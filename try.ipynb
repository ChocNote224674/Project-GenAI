{
 "cells": [
  {
   "cell_type": "code",
   "execution_count": 7,
   "metadata": {},
   "outputs": [
    {
     "name": "stdout",
     "output_type": "stream",
     "text": [
      "✅ Fichier nettoyé et sauvegardé sous : medquad_utf8.csv\n"
     ]
    }
   ],
   "source": [
    "# 📌 Chemin du fichier source et du fichier corrigé\n",
    "file_path = \"medquad.csv\"\n",
    "output_path = \"medquad_utf8.csv\"\n",
    "\n",
    "# 📌 Lecture et remplacement des caractères non valides\n",
    "with open(file_path, \"r\", encoding=\"latin1\") as f_in, \\\n",
    "     open(output_path, \"w\", encoding=\"utf-8\", newline=\"\") as f_out:\n",
    "    \n",
    "    for line in f_in:\n",
    "        # Remplacer les caractères invalides par un espace ou caractère de remplacement\n",
    "        clean_line = line.replace(chr(0x9d), '?')\n",
    "        clean_line = clean_line.replace(chr(0x8d),'?')  # Remplace les caractères non valides\n",
    "        f_out.write(clean_line)  # Écrit la ligne nettoyée\n",
    "\n",
    "print(f\"✅ Fichier nettoyé et sauvegardé sous : {output_path}\")\n"
   ]
  }
 ],
 "metadata": {
  "kernelspec": {
   "display_name": "Python 3",
   "language": "python",
   "name": "python3"
  },
  "language_info": {
   "codemirror_mode": {
    "name": "ipython",
    "version": 3
   },
   "file_extension": ".py",
   "mimetype": "text/x-python",
   "name": "python",
   "nbconvert_exporter": "python",
   "pygments_lexer": "ipython3",
   "version": "3.12.1"
  }
 },
 "nbformat": 4,
 "nbformat_minor": 2
}
